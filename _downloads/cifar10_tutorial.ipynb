{
  "cells": [
    {
      "cell_type": "code",
      "execution_count": 20,
      "metadata": {
        "id": "mdnECq12pMLx"
      },
      "outputs": [],
      "source": [
        "%matplotlib inline"
      ]
    },
    {
      "cell_type": "markdown",
      "metadata": {
        "id": "BdzBhjR1pML1"
      },
      "source": [
        "\n",
        "Training a Classifier\n",
        "=====================\n",
        "\n",
        "This is it. You have seen how to define neural networks, compute loss and make\n",
        "updates to the weights of the network.\n",
        "\n",
        "Now you might be thinking,\n",
        "\n",
        "What about data?\n",
        "----------------\n",
        "\n",
        "Generally, when you have to deal with image, text, audio or video data,\n",
        "you can use standard python packages that load data into a numpy array.\n",
        "Then you can convert this array into a ``torch.*Tensor``.\n",
        "\n",
        "-  For images, packages such as Pillow, OpenCV are useful\n",
        "-  For audio, packages such as scipy and librosa\n",
        "-  For text, either raw Python or Cython based loading, or NLTK and\n",
        "   SpaCy are useful\n",
        "\n",
        "Specifically for vision, we have created a package called\n",
        "``torchvision``, that has data loaders for common datasets such as\n",
        "Imagenet, CIFAR10, MNIST, etc. and data transformers for images, viz.,\n",
        "``torchvision.datasets`` and ``torch.utils.data.DataLoader``.\n",
        "\n",
        "This provides a huge convenience and avoids writing boilerplate code.\n",
        "\n",
        "For this tutorial, we will use the CIFAR10 dataset.\n",
        "It has the classes: ‘airplane’, ‘automobile’, ‘bird’, ‘cat’, ‘deer’,\n",
        "‘dog’, ‘frog’, ‘horse’, ‘ship’, ‘truck’. The images in CIFAR-10 are of\n",
        "size 3x32x32, i.e. 3-channel color images of 32x32 pixels in size.\n",
        "\n",
        ".. figure:: /_static/img/cifar10.png\n",
        "   :alt: cifar10\n",
        "\n",
        "   cifar10\n",
        "\n",
        "\n",
        "Training an image classifier\n",
        "----------------------------\n",
        "\n",
        "We will do the following steps in order:\n",
        "\n",
        "1. Load and normalizing the CIFAR10 training and test datasets using\n",
        "   ``torchvision``\n",
        "2. Define a Convolution Neural Network\n",
        "3. Define a loss function\n",
        "4. Train the network on the training data\n",
        "5. Test the network on the test data\n",
        "\n",
        "1. Loading and normalizing CIFAR10\n",
        "^^^^^^^^^^^^^^^^^^^^^^^^^^^^^^^^^^\n",
        "\n",
        "Using ``torchvision``, it’s extremely easy to load CIFAR10.\n",
        "\n"
      ]
    },
    {
      "cell_type": "code",
      "execution_count": 21,
      "metadata": {
        "id": "SGvrj8XIpML4"
      },
      "outputs": [],
      "source": [
        "import torch\n",
        "import torchvision\n",
        "import torchvision.transforms as transforms"
      ]
    },
    {
      "cell_type": "markdown",
      "metadata": {
        "id": "ZuIxG45tpML5"
      },
      "source": [
        "The output of torchvision datasets are PILImage images of range [0, 1].\n",
        "We transform them to Tensors of normalized range [-1, 1].\n",
        "\n"
      ]
    },
    {
      "cell_type": "code",
      "execution_count": 22,
      "metadata": {
        "id": "UgkgbbbvpML6"
      },
      "outputs": [],
      "source": [
        "transform = transforms.Compose(\n",
        "    [transforms.ToTensor(),\n",
        "     transforms.Normalize((0.5, 0.5, 0.5), (0.5, 0.5, 0.5))])\n",
        "\n",
        "trainset = torchvision.datasets.CIFAR10(root='./data', train=True,\n",
        "                                        download=True, transform=transform)\n",
        "trainloader = torch.utils.data.DataLoader(trainset, batch_size=4,\n",
        "                                          shuffle=True, num_workers=2)\n",
        "\n",
        "testset = torchvision.datasets.CIFAR10(root='./data', train=False,\n",
        "                                       download=True, transform=transform)\n",
        "testloader = torch.utils.data.DataLoader(testset, batch_size=4,\n",
        "                                         shuffle=False, num_workers=2)\n",
        "\n",
        "classes = ('plane', 'car', 'bird', 'cat',\n",
        "           'deer', 'dog', 'frog', 'horse', 'ship', 'truck')"
      ]
    },
    {
      "cell_type": "markdown",
      "metadata": {
        "id": "Kj665e0FpML6"
      },
      "source": [
        "Let us show some of the training images, for fun.\n",
        "\n"
      ]
    },
    {
      "cell_type": "code",
      "execution_count": 23,
      "metadata": {
        "colab": {
          "base_uri": "https://localhost:8080/",
          "height": 210
        },
        "id": "E1QN6Yx8pML7",
        "outputId": "4ec54965-bdcf-4507-e229-1c03bc3316ff"
      },
      "outputs": [
        {
          "output_type": "stream",
          "name": "stdout",
          "text": [
            " ship plane   car   cat\n"
          ]
        },
        {
          "output_type": "display_data",
          "data": {
            "text/plain": [
              "<Figure size 640x480 with 1 Axes>"
            ],
            "image/png": "[encoded data removed]"
          },
          "metadata": {}
        }
      ],
      "source": [
        "import matplotlib.pyplot as plt\n",
        "import numpy as np\n",
        "\n",
        "# functions to show an image\n",
        "\n",
        "\n",
        "def imshow(img):\n",
        "    img = img / 2 + 0.5     # unnormalize\n",
        "    npimg = img.numpy()\n",
        "    plt.imshow(np.transpose(npimg, (1, 2, 0)))\n",
        "\n",
        "\n",
        "# get some random training images\n",
        "dataiter = iter(trainloader)\n",
        "images, labels = next(dataiter)\n",
        "\n",
        "# show images\n",
        "imshow(torchvision.utils.make_grid(images))\n",
        "# print labels\n",
        "print(' '.join('%5s' % classes[labels[j]] for j in range(4)))"
      ]
    },
    {
      "cell_type": "markdown",
      "metadata": {
        "id": "0mEmxcocpML8"
      },
      "source": [
        "2. Define a Convolution Neural Network\n",
        "^^^^^^^^^^^^^^^^^^^^^^^^^^^^^^^^^^^^^^\n",
        "Copy the neural network from the Neural Networks section before and modify it to\n",
        "take 3-channel images (instead of 1-channel images as it was defined).\n",
        "\n"
      ]
    },
    {
      "cell_type": "code",
      "execution_count": null,
      "metadata": {
        "colab": {
          "base_uri": "https://localhost:8080/"
        },
        "id": "Lz1o5iropML9",
        "outputId": "df3ecbd1-5a18-4499-a7c1-a2914bf7b659"
      },
      "outputs": [
        {
          "output_type": "stream",
          "name": "stdout",
          "text": [
            "Đang sử dụng thiết bị: cuda:0\n",
            "\n",
            "--- TÓM TẮT KIẾN TRÚC MÔ HÌNH ---\n",
            "----------------------------------------------------------------\n",
            "        Layer (type)               Output Shape         Param #\n",
            "================================================================\n",
            "            Conv2d-1           [-1, 32, 32, 32]           2,432\n",
            "       BatchNorm2d-2           [-1, 32, 32, 32]              64\n",
            "            Conv2d-3           [-1, 32, 32, 32]          25,632\n",
            "       BatchNorm2d-4           [-1, 32, 32, 32]              64\n",
            "         MaxPool2d-5           [-1, 32, 16, 16]               0\n",
            "            Conv2d-6           [-1, 64, 16, 16]          51,264\n",
            "       BatchNorm2d-7           [-1, 64, 16, 16]             128\n",
            "            Conv2d-8           [-1, 64, 16, 16]         102,464\n",
            "       BatchNorm2d-9           [-1, 64, 16, 16]             128\n",
            "           Conv2d-10           [-1, 64, 16, 16]          36,928\n",
            "      BatchNorm2d-11           [-1, 64, 16, 16]             128\n",
            "           Conv2d-12           [-1, 64, 16, 16]          36,928\n",
            "      BatchNorm2d-13           [-1, 64, 16, 16]             128\n",
            "        MaxPool2d-14             [-1, 64, 8, 8]               0\n",
            "           Conv2d-15            [-1, 128, 8, 8]          73,856\n",
            "      BatchNorm2d-16            [-1, 128, 8, 8]             256\n",
            "           Conv2d-17            [-1, 128, 8, 8]         147,584\n",
            "      BatchNorm2d-18            [-1, 128, 8, 8]             256\n",
            "           Conv2d-19            [-1, 128, 8, 8]         147,584\n",
            "      BatchNorm2d-20            [-1, 128, 8, 8]             256\n",
            "           Conv2d-21             [-1, 64, 8, 8]          73,792\n",
            "      BatchNorm2d-22             [-1, 64, 8, 8]             128\n",
            "           Conv2d-23             [-1, 64, 8, 8]         204,864\n",
            "      BatchNorm2d-24             [-1, 64, 8, 8]             128\n",
            "        MaxPool2d-25            [-1, 128, 4, 4]               0\n",
            "           Conv2d-26            [-1, 256, 4, 4]         295,168\n",
            "      BatchNorm2d-27            [-1, 256, 4, 4]             512\n",
            "           Conv2d-28            [-1, 256, 4, 4]         590,080\n",
            "      BatchNorm2d-29            [-1, 256, 4, 4]             512\n",
            "           Conv2d-30            [-1, 256, 4, 4]         590,080\n",
            "      BatchNorm2d-31            [-1, 256, 4, 4]             512\n",
            "           Conv2d-32            [-1, 128, 4, 4]         295,040\n",
            "      BatchNorm2d-33            [-1, 128, 4, 4]             256\n",
            "           Conv2d-34            [-1, 128, 4, 4]         819,328\n",
            "      BatchNorm2d-35            [-1, 128, 4, 4]             256\n",
            "           Conv2d-36            [-1, 256, 4, 4]       1,638,656\n",
            "      BatchNorm2d-37            [-1, 256, 4, 4]             512\n",
            "           Conv2d-38            [-1, 256, 4, 4]       1,638,656\n",
            "      BatchNorm2d-39            [-1, 256, 4, 4]             512\n",
            "           Conv2d-40            [-1, 256, 4, 4]       1,638,656\n",
            "      BatchNorm2d-41            [-1, 256, 4, 4]             512\n",
            "           Conv2d-42            [-1, 256, 4, 4]       1,638,656\n",
            "      BatchNorm2d-43            [-1, 256, 4, 4]             512\n",
            "           Conv2d-44            [-1, 256, 4, 4]         590,080\n",
            "      BatchNorm2d-45            [-1, 256, 4, 4]             512\n",
            "           Conv2d-46            [-1, 256, 4, 4]         590,080\n",
            "      BatchNorm2d-47            [-1, 256, 4, 4]             512\n",
            "           Linear-48                 [-1, 1024]       4,195,328\n",
            "      BatchNorm1d-49                 [-1, 1024]           2,048\n",
            "           Linear-50                   [-1, 10]          10,250\n",
            "================================================================\n",
            "Total params: 15,442,218\n",
            "Trainable params: 15,442,218\n",
            "Non-trainable params: 0\n",
            "----------------------------------------------------------------\n",
            "Input size (MB): 0.01\n",
            "Forward/backward pass size (MB): 3.25\n",
            "Params size (MB): 58.91\n",
            "Estimated Total Size (MB): 62.17\n",
            "----------------------------------------------------------------\n",
            "------------------------------------\n",
            "\n",
            "Đang tải dữ liệu CIFAR-10...\n",
            "Bắt đầu huấn luyện...\n",
            "[Epoch 1, Batch  2000] loss: 2.517\n",
            "[Epoch 1, Batch  4000] loss: 2.410\n",
            "[Epoch 1, Batch  6000] loss: 2.303\n",
            "[Epoch 1, Batch  8000] loss: 2.324\n",
            "[Epoch 1, Batch 10000] loss: 2.288\n",
            "[Epoch 1, Batch 12000] loss: 2.264\n",
            "[Epoch 2, Batch  2000] loss: 2.208\n",
            "[Epoch 2, Batch  4000] loss: 2.213\n",
            "[Epoch 2, Batch  6000] loss: 2.193\n",
            "[Epoch 2, Batch  8000] loss: 2.160\n",
            "[Epoch 2, Batch 10000] loss: 2.115\n",
            "[Epoch 2, Batch 12000] loss: 2.090\n",
            "[Epoch 3, Batch  2000] loss: 2.255\n",
            "[Epoch 3, Batch  4000] loss: 2.247\n",
            "[Epoch 3, Batch  6000] loss: 2.182\n",
            "[Epoch 3, Batch  8000] loss: 2.180\n",
            "[Epoch 3, Batch 10000] loss: 2.179\n",
            "[Epoch 3, Batch 12000] loss: 2.147\n"
          ]
        }
      ],
      "source": [
        "import torch\n",
        "import torch.nn as nn\n",
        "import torch.nn.functional as F\n",
        "import torch.optim as optim\n",
        "import torchvision\n",
        "import torchvision.transforms as transforms\n",
        "from torchsummary import summary\n",
        "\n",
        "# ----------------------------------------------------------------------\n",
        "# 1. ĐỊNH NGHĨA KIẾN TRÚC MẠNG MỚI (THEO YÊU CẦU)\n",
        "# ----------------------------------------------------------------------\n",
        "\n",
        "# ----------------------------------------------------------------------\n",
        "# 1. ĐỊNH NGHĨA KIẾN TRÚC MẠNG MỚI (VỚI BATCHNORM)\n",
        "# ----------------------------------------------------------------------\n",
        "\n",
        "class Net(nn.Module):\n",
        "    def __init__(self):\n",
        "        super(Net, self).__init__()\n",
        "\n",
        "        # --- Block 1: Input (3, 32, 32) ---\n",
        "        self.conv1 = nn.Conv2d(3, 32, kernel_size=5, stride=1, padding=2)\n",
        "        self.bn1 = nn.BatchNorm2d(32) # Thêm BN\n",
        "        self.conv2 = nn.Conv2d(32, 32, kernel_size=5, stride=1, padding=2)\n",
        "        self.bn2 = nn.BatchNorm2d(32) # Thêm BN\n",
        "        self.pool1 = nn.MaxPool2d(kernel_size=2, stride=2) # -> (32, 16, 16)\n",
        "\n",
        "        # --- Block 2 ---\n",
        "        self.conv3 = nn.Conv2d(32, 64, kernel_size=5, stride=1, padding=2)\n",
        "        self.bn3 = nn.BatchNorm2d(64) # Thêm BN\n",
        "        self.conv4 = nn.Conv2d(64, 64, kernel_size=5, stride=1, padding=2)\n",
        "        self.bn4 = nn.BatchNorm2d(64) # Thêm BN\n",
        "        self.conv5 = nn.Conv2d(64, 64, kernel_size=3, stride=1, padding=1)\n",
        "        self.bn5 = nn.BatchNorm2d(64) # Thêm BN\n",
        "        self.conv6 = nn.Conv2d(64, 64, kernel_size=3, stride=1, padding=1)\n",
        "        self.bn6 = nn.BatchNorm2d(64) # Thêm BN\n",
        "        self.pool2 = nn.MaxPool2d(kernel_size=2, stride=2) # -> (64, 8, 8)\n",
        "\n",
        "        # --- Block 3: Residual Connection (Add #1) ---\n",
        "        self.conv7_res = nn.Conv2d(64, 128, kernel_size=3, stride=1, padding=1)\n",
        "        self.bn7_res = nn.BatchNorm2d(128) # Thêm BN\n",
        "        self.conv8 = nn.Conv2d(128, 128, kernel_size=3, stride=1, padding=1)\n",
        "        self.bn8 = nn.BatchNorm2d(128) # Thêm BN\n",
        "        self.conv9 = nn.Conv2d(128, 128, kernel_size=3, stride=1, padding=1)\n",
        "        self.bn9 = nn.BatchNorm2d(128) # Thêm BN\n",
        "\n",
        "        # --- Block 4: Concatenation (Cat #1) ---\n",
        "        self.conv10_cat1 = nn.Conv2d(128, 64, kernel_size=3, stride=1, padding=1)\n",
        "        self.bn10 = nn.BatchNorm2d(64) # Thêm BN\n",
        "        self.conv11_cat2 = nn.Conv2d(128, 64, kernel_size=5, stride=1, padding=2)\n",
        "        self.bn11 = nn.BatchNorm2d(64) # Thêm BN\n",
        "        self.pool3 = nn.MaxPool2d(kernel_size=2, stride=2) # -> (128, 4, 4)\n",
        "\n",
        "        # --- Block 5: Residual Connection (Add #2) ---\n",
        "        self.conv12_res = nn.Conv2d(128, 256, kernel_size=3, stride=1, padding=1)\n",
        "        self.bn12_res = nn.BatchNorm2d(256) # Thêm BN\n",
        "        self.conv13 = nn.Conv2d(256, 256, kernel_size=3, stride=1, padding=1)\n",
        "        self.bn13 = nn.BatchNorm2d(256) # Thêm BN\n",
        "        self.conv14 = nn.Conv2d(256, 256, kernel_size=3, stride=1, padding=1)\n",
        "        self.bn14 = nn.BatchNorm2d(256) # Thêm BN\n",
        "\n",
        "        # --- Block 6: Concatenation (Cat #2) ---\n",
        "        self.conv15_cat3 = nn.Conv2d(256, 128, kernel_size=3, stride=1, padding=1)\n",
        "        self.bn15 = nn.BatchNorm2d(128) # Thêm BN\n",
        "        self.conv16_cat4 = nn.Conv2d(256, 128, kernel_size=5, stride=1, padding=2)\n",
        "        self.bn16 = nn.BatchNorm2d(128) # Thêm BN\n",
        "\n",
        "        # --- Block 7: Final Convolutions ---\n",
        "        self.conv17 = nn.Conv2d(256, 256, kernel_size=5, stride=1, padding=2)\n",
        "        self.bn17 = nn.BatchNorm2d(256) # Thêm BN\n",
        "        self.conv18 = nn.Conv2d(256, 256, kernel_size=5, stride=1, padding=2)\n",
        "        self.bn18 = nn.BatchNorm2d(256) # Thêm BN\n",
        "        self.conv19 = nn.Conv2d(256, 256, kernel_size=5, stride=1, padding=2)\n",
        "        self.bn19 = nn.BatchNorm2d(256) # Thêm BN\n",
        "        self.conv20 = nn.Conv2d(256, 256, kernel_size=5, stride=1, padding=2)\n",
        "        self.bn20 = nn.BatchNorm2d(256) # Thêm BN\n",
        "        self.conv21 = nn.Conv2d(256, 256, kernel_size=3, stride=1, padding=1)\n",
        "        self.bn21 = nn.BatchNorm2d(256) # Thêm BN\n",
        "        self.conv22 = nn.Conv2d(256, 256, kernel_size=3, stride=1, padding=1)\n",
        "        self.bn22 = nn.BatchNorm2d(256) # Thêm BN\n",
        "\n",
        "        # --- Block 8: Classifier (Exactly 2 FC layers) ---\n",
        "        # BN cho FC là BatchNorm1d\n",
        "        self.fc1 = nn.Linear(256 * 4 * 4, 1024) # 4096\n",
        "        self.bn_fc1 = nn.BatchNorm1d(1024) # Thêm BN 1D\n",
        "        self.fc2 = nn.Linear(1024, 10)\n",
        "\n",
        "    def forward(self, x):\n",
        "        # Block 1\n",
        "        x = F.relu(self.bn1(self.conv1(x)))\n",
        "        x = F.relu(self.bn2(self.conv2(x)))\n",
        "        x = self.pool1(x)\n",
        "\n",
        "        # Block 2\n",
        "        x = F.relu(self.bn3(self.conv3(x)))\n",
        "        x = F.relu(self.bn4(self.conv4(x)))\n",
        "        x = F.relu(self.bn5(self.conv5(x)))\n",
        "        x = F.relu(self.bn6(self.conv6(x)))\n",
        "        x = self.pool2(x)\n",
        "\n",
        "        # Block 3 (Add #1)\n",
        "        x_res1 = F.relu(self.bn7_res(self.conv7_res(x)))\n",
        "        x = F.relu(self.bn8(self.conv8(x_res1)))\n",
        "        x = F.relu(self.bn9(self.conv9(x)))\n",
        "        x = x + x_res1 # Cộng tensor lần 1\n",
        "\n",
        "        # Block 4 (Cat #1)\n",
        "        x_cat1 = F.relu(self.bn10(self.conv10_cat1(x)))\n",
        "        x_cat2 = F.relu(self.bn11(self.conv11_cat2(x)))\n",
        "        x = torch.cat((x_cat1, x_cat2), dim=1) # Cat tensor lần 1\n",
        "        x = self.pool3(x)\n",
        "\n",
        "        # Block 5 (Add #2)\n",
        "        x_res2 = F.relu(self.bn12_res(self.conv12_res(x)))\n",
        "        x = F.relu(self.bn13(self.conv13(x_res2)))\n",
        "        x = F.relu(self.bn14(self.conv14(x)))\n",
        "        x = x + x_res2 # Cộng tensor lần 2\n",
        "\n",
        "        # Block 6 (Cat #2)\n",
        "        x_cat3 = F.relu(self.bn15(self.conv15_cat3(x)))\n",
        "        x_cat4 = F.relu(self.bn16(self.conv16_cat4(x)))\n",
        "        x = torch.cat((x_cat3, x_cat4), dim=1) # Cat tensor lần 2\n",
        "\n",
        "        # Block 7\n",
        "        x = F.relu(self.bn17(self.conv17(x)))\n",
        "        x = F.relu(self.bn18(self.conv18(x)))\n",
        "        x = F.relu(self.bn19(self.conv19(x)))\n",
        "        x = F.relu(self.bn20(self.conv20(x)))\n",
        "        x = F.relu(self.bn21(self.conv21(x)))\n",
        "        x = F.relu(self.bn22(self.conv22(x)))\n",
        "\n",
        "        # Block 8 (Classifier)\n",
        "        x = x.view(-1, 256 * 4 * 4) # Flatten\n",
        "        x = F.relu(self.bn_fc1(self.fc1(x))) # FC -> BN -> ReLU\n",
        "        x = self.fc2(x) # Lớp cuối không cần ReLU\n",
        "        return x\n",
        "\n",
        "# ----------------------------------------------------------------------\n",
        "# 2. KIỂM TRA MÔ HÌNH VÀ TẢI DỮ LIỆU (CIFAR-10)\n",
        "# ----------------------------------------------------------------------\n",
        "\n",
        "# Kiểm tra xem có GPU không\n",
        "device = torch.device(\"cuda:0\" if torch.cuda.is_available() else \"cpu\")\n",
        "print(f\"Đang sử dụng thiết bị: {device}\")\n",
        "\n",
        "# Khởi tạo mô hình và chuyển lên device\n",
        "net = Net().to(device)\n",
        "\n",
        "# In tóm tắt mô hình để kiểm tra số lượng tham số\n",
        "print(\"\\n--- TÓM TẮT KIẾN TRÚC MÔ HÌNH ---\")\n",
        "# Đầu vào (3, 32, 32) cho CIFAR-10\n",
        "summary(net, (3, 32, 32))\n",
        "print(\"------------------------------------\\n\")\n",
        "\n",
        "\n",
        "# Tải và chuẩn bị dữ liệu CIFAR-10\n",
        "print(\"Đang tải dữ liệu CIFAR-10...\")\n",
        "transform = transforms.Compose(\n",
        "    [transforms.ToTensor(),\n",
        "     transforms.Normalize((0.5, 0.5, 0.5), (0.5, 0.5, 0.5))])\n",
        "\n",
        "batch_size = 4 # Đây là tham số mặc định của tutorial, bạn có thể tăng lên\n",
        "\n",
        "trainset = torchvision.datasets.CIFAR10(root='./data', train=True,\n",
        "                                        download=True, transform=transform)\n",
        "trainloader = torch.utils.data.DataLoader(trainset, batch_size=batch_size,\n",
        "                                          shuffle=True, num_workers=2)\n",
        "\n",
        "testset = torchvision.datasets.CIFAR10(root='./data', train=False,\n",
        "                                       download=True, transform=transform)\n",
        "testloader = torch.utils.data.DataLoader(testset, batch_size=batch_size,\n",
        "                                         shuffle=False, num_workers=2)\n",
        "\n",
        "classes = ('plane', 'car', 'bird', 'cat',\n",
        "           'deer', 'dog', 'frog', 'horse', 'ship', 'truck')\n",
        "\n",
        "# ----------------------------------------------------------------------\n",
        "# 3. ĐỊNH NGHĨA HÀM LOSS VÀ OPTIMIZER (Mặc định)\n",
        "# ----------------------------------------------------------------------\n",
        "\n",
        "criterion = nn.CrossEntropyLoss()\n",
        "optimizer = optim.SGD(net.parameters(), lr=0.001, momentum=0.9)\n",
        "\n",
        "# ----------------------------------------------------------------------\n",
        "# 4. HUẤN LUYỆN MÔ HÌNH (10 EPOCHS)\n",
        "# ----------------------------------------------------------------------\n",
        "print(\"Bắt đầu huấn luyện...\")\n",
        "\n",
        "num_epochs = 20 # Yêu cầu chạy ít nhất 10 epochs\n",
        "\n",
        "for epoch in range(num_epochs):  # Lặp qua dataset nhiều lần\n",
        "    running_loss = 0.0\n",
        "    for i, data in enumerate(trainloader, 0):\n",
        "        # Lấy inputs; data là một list [inputs, labels]\n",
        "        inputs, labels = data[0].to(device), data[1].to(device)\n",
        "\n",
        "        # Xóa gradients\n",
        "        optimizer.zero_grad()\n",
        "\n",
        "        # Forward + backward + optimize\n",
        "        outputs = net(inputs)\n",
        "        loss = criterion(outputs, labels)\n",
        "        loss.backward()\n",
        "        optimizer.step()\n",
        "\n",
        "        # In thông số\n",
        "        running_loss += loss.item()\n",
        "        if i % 2000 == 1999:    # In mỗi 2000 mini-batches\n",
        "            print(f'[Epoch {epoch + 1}, Batch {i + 1:5d}] loss: {running_loss / 2000:.3f}')\n",
        "            running_loss = 0.0\n",
        "\n",
        "print('Đã huấn luyện xong.')\n",
        "\n",
        "# Lưu mô hình (tùy chọn)\n",
        "# PATH = './cifar_net_custom.pth'\n",
        "# torch.save(net.state_dict(), PATH)\n",
        "\n",
        "# ----------------------------------------------------------------------\n",
        "# 5. ĐÁNH GIÁ VÀ BÁO CÁO KẾT QUẢ\n",
        "# ----------------------------------------------------------------------\n",
        "print(\"\\n--- BÁO CÁO KẾT QUẢ PHÂN LỚP ---\")\n",
        "\n",
        "correct = 0\n",
        "total = 0\n",
        "# Chuẩn bị để tính độ chính xác cho từng lớp\n",
        "correct_pred = {classname: 0 for classname in classes}\n",
        "total_pred = {classname: 0 for classname in classes}\n",
        "\n",
        "# Không cần tính gradients khi đánh giá\n",
        "with torch.no_grad():\n",
        "    for data in testloader:\n",
        "        images, labels = data[0].to(device), data[1].to(device)\n",
        "        # Chạy ảnh qua mô hình\n",
        "        outputs = net(images)\n",
        "        # Lấy dự đoán (lớp có xác suất cao nhất)\n",
        "        _, predicted = torch.max(outputs.data, 1)\n",
        "\n",
        "        # Tính tổng số lượng\n",
        "        total += labels.size(0)\n",
        "        correct += (predicted == labels).sum().item()\n",
        "\n",
        "        # Tính cho từng lớp\n",
        "        for label, prediction in zip(labels, predicted):\n",
        "            if label == prediction:\n",
        "                correct_pred[classes[label]] += 1\n",
        "            total_pred[classes[label]] += 1\n",
        "\n",
        "# 1. Báo cáo tổng thể\n",
        "print(f'Độ chính xác tổng thể (Accuracy) trên 10000 ảnh test: {100 * correct / total:.2f} %')\n",
        "\n",
        "print(\"\\n--- Báo cáo chi tiết cho từng lớp ---\")\n",
        "# 2. Báo cáo cho từng lớp\n",
        "for classname, correct_count in correct_pred.items():\n",
        "    if total_pred[classname] == 0:\n",
        "        accuracy = 0\n",
        "    else:\n",
        "        accuracy = 100 * float(correct_count) / total_pred[classname]\n",
        "    print(f'Độ chính xác cho lớp: {classname:5s} là {accuracy:.2f} %')\n",
        "\n",
        "print(\"------------------------------------\\n\")"
      ]
    },
    {
      "cell_type": "markdown",
      "metadata": {
        "id": "q1aslSjupML-"
      },
      "source": [
        "3. Define a Loss function and optimizer\n",
        "^^^^^^^^^^^^^^^^^^^^^^^^^^^^^^^^^^^^^^^\n",
        "Let's use a Classification Cross-Entropy loss and SGD with momentum.\n",
        "\n"
      ]
    },
    {
      "cell_type": "code",
      "execution_count": 6,
      "metadata": {
        "id": "pAPtr244pML_"
      },
      "outputs": [],
      "source": [
        "import torch.optim as optim\n",
        "\n",
        "criterion = nn.CrossEntropyLoss()\n",
        "optimizer = optim.SGD(net.parameters(), lr=0.001, momentum=0.9)"
      ]
    },
    {
      "cell_type": "markdown",
      "metadata": {
        "id": "swqrzJyipML_"
      },
      "source": [
        "4. Train the network\n",
        "^^^^^^^^^^^^^^^^^^^^\n",
        "\n",
        "This is when things start to get interesting.\n",
        "We simply have to loop over our data iterator, and feed the inputs to the\n",
        "network and optimize.\n",
        "\n"
      ]
    },
    {
      "cell_type": "code",
      "execution_count": 8,
      "metadata": {
        "colab": {
          "base_uri": "https://localhost:8080/"
        },
        "id": "Rd3uDaGOpMMA",
        "outputId": "6177ca64-5a44-4da6-f870-a16346e7041f"
      },
      "outputs": [
        {
          "output_type": "stream",
          "name": "stdout",
          "text": [
            "[1,  2000] loss: 1.825\n",
            "[1,  4000] loss: 1.812\n",
            "[1,  6000] loss: 1.836\n",
            "[1,  8000] loss: 1.796\n",
            "[1, 10000] loss: 1.803\n",
            "[1, 12000] loss: 1.758\n",
            "[2,  2000] loss: 1.773\n",
            "[2,  4000] loss: 1.758\n",
            "[2,  6000] loss: 1.756\n",
            "[2,  8000] loss: 1.749\n",
            "[2, 10000] loss: 1.716\n",
            "[2, 12000] loss: 1.680\n",
            "Finished Training\n"
          ]
        }
      ],
      "source": [
        "for epoch in range(2):  # loop over the dataset multiple times\n",
        "\n",
        "    running_loss = 0.0\n",
        "    for i, data in enumerate(trainloader, 0):\n",
        "        # get the inputs\n",
        "        inputs, labels = data[0].to(device), data[1].to(device) # Move data to the same device as the model\n",
        "\n",
        "        # zero the parameter gradients\n",
        "        optimizer.zero_grad()\n",
        "\n",
        "        # forward + backward + optimize\n",
        "        outputs = net(inputs)\n",
        "        loss = criterion(outputs, labels)\n",
        "        loss.backward()\n",
        "        optimizer.step()\n",
        "\n",
        "        # print statistics\n",
        "        running_loss += loss.item()\n",
        "        if i % 2000 == 1999:    # print every 2000 mini-batches\n",
        "            print('[%d, %5d] loss: %.3f' %\n",
        "                  (epoch + 1, i + 1, running_loss / 2000))\n",
        "            running_loss = 0.0\n",
        "\n",
        "print('Finished Training')"
      ]
    },
    {
      "cell_type": "markdown",
      "metadata": {
        "id": "-KMPbBl1pMMB"
      },
      "source": [
        "5. Test the network on the test data\n",
        "^^^^^^^^^^^^^^^^^^^^^^^^^^^^^^^^^^^^\n",
        "\n",
        "We have trained the network for 2 passes over the training dataset.\n",
        "But we need to check if the network has learnt anything at all.\n",
        "\n",
        "We will check this by predicting the class label that the neural network\n",
        "outputs, and checking it against the ground-truth. If the prediction is\n",
        "correct, we add the sample to the list of correct predictions.\n",
        "\n",
        "Okay, first step. Let us display an image from the test set to get familiar.\n",
        "\n"
      ]
    },
    {
      "cell_type": "code",
      "execution_count": 10,
      "metadata": {
        "colab": {
          "base_uri": "https://localhost:8080/",
          "height": 210
        },
        "id": "aiCrxmbppMMC",
        "outputId": "8d2be554-61a1-4ec6-f7b2-65b28b97935f"
      },
      "outputs": [
        {
          "output_type": "stream",
          "name": "stdout",
          "text": [
            "GroundTruth:    cat  ship  ship plane\n"
          ]
        },
        {
          "output_type": "display_data",
          "data": {
            "text/plain": [
              "<Figure size 640x480 with 1 Axes>"
            ],
            "image/png": "[encoded data removed]"
          },
          "metadata": {}
        }
      ],
      "source": [
        "dataiter = iter(testloader)\n",
        "images, labels = next(dataiter)\n",
        "\n",
        "# print images\n",
        "imshow(torchvision.utils.make_grid(images))\n",
        "print('GroundTruth: ', ' '.join('%5s' % classes[labels[j]] for j in range(4)))"
      ]
    },
    {
      "cell_type": "markdown",
      "metadata": {
        "id": "CQYB7BmspMMC"
      },
      "source": [
        "Okay, now let us see what the neural network thinks these examples above are:\n",
        "\n"
      ]
    },
    {
      "cell_type": "code",
      "execution_count": 12,
      "metadata": {
        "id": "oMy9CSQ-pMMD"
      },
      "outputs": [],
      "source": [
        "outputs = net(images.to(device))"
      ]
    },
    {
      "cell_type": "markdown",
      "metadata": {
        "id": "BB6c5jmWpMMD"
      },
      "source": [
        "The outputs are energies for the 10 classes.\n",
        "Higher the energy for a class, the more the network\n",
        "thinks that the image is of the particular class.\n",
        "So, let's get the index of the highest energy:\n",
        "\n"
      ]
    },
    {
      "cell_type": "code",
      "execution_count": 13,
      "metadata": {
        "colab": {
          "base_uri": "https://localhost:8080/"
        },
        "id": "U52t_G5PpMME",
        "outputId": "331b0223-e444-41e3-bbc0-2b3f9bf31ec8"
      },
      "outputs": [
        {
          "output_type": "stream",
          "name": "stdout",
          "text": [
            "Predicted:    cat   car plane plane\n"
          ]
        }
      ],
      "source": [
        "_, predicted = torch.max(outputs, 1)\n",
        "\n",
        "print('Predicted: ', ' '.join('%5s' % classes[predicted[j]]\n",
        "                              for j in range(4)))"
      ]
    },
    {
      "cell_type": "markdown",
      "metadata": {
        "id": "nxxisgySpMME"
      },
      "source": [
        "The results seem pretty good.\n",
        "\n",
        "Let us look at how the network performs on the whole dataset.\n",
        "\n"
      ]
    },
    {
      "cell_type": "code",
      "execution_count": 16,
      "metadata": {
        "colab": {
          "base_uri": "https://localhost:8080/"
        },
        "id": "GezY7G2dpMMF",
        "outputId": "fdee413c-acf8-4e39-8ad8-15fe25be6bd2"
      },
      "outputs": [
        {
          "output_type": "stream",
          "name": "stdout",
          "text": [
            "Accuracy of the network on the 10000 test images: 37 %\n"
          ]
        }
      ],
      "source": [
        "correct = 0\n",
        "total = 0\n",
        "with torch.no_grad():\n",
        "    for data in testloader:\n",
        "        images, labels = data\n",
        "        outputs = net(images.to(device)) # Move images to the same device as the model\n",
        "        _, predicted = torch.max(outputs.data, 1)\n",
        "        total += labels.size(0)\n",
        "        correct += (predicted == labels.to(device)).sum().item() # Move labels to the same device as predicted\n",
        "\n",
        "print('Accuracy of the network on the 10000 test images: %d %%' % (\n",
        "    100 * correct / total))"
      ]
    },
    {
      "cell_type": "markdown",
      "metadata": {
        "id": "0TP5JO5TpMMF"
      },
      "source": [
        "That looks waaay better than chance, which is 10% accuracy (randomly picking\n",
        "a class out of 10 classes).\n",
        "Seems like the network learnt something.\n",
        "\n",
        "Hmmm, what are the classes that performed well, and the classes that did\n",
        "not perform well:\n",
        "\n"
      ]
    },
    {
      "cell_type": "code",
      "execution_count": 18,
      "metadata": {
        "colab": {
          "base_uri": "https://localhost:8080/"
        },
        "id": "kSmVh6TqpMMG",
        "outputId": "201b3482-1827-46db-d8a9-71cb0352b9a9"
      },
      "outputs": [
        {
          "output_type": "stream",
          "name": "stdout",
          "text": [
            "Accuracy of plane : 35 %\n",
            "Accuracy of   car : 65 %\n",
            "Accuracy of  bird : 24 %\n",
            "Accuracy of   cat : 12 %\n",
            "Accuracy of  deer : 34 %\n",
            "Accuracy of   dog : 38 %\n",
            "Accuracy of  frog : 36 %\n",
            "Accuracy of horse : 54 %\n",
            "Accuracy of  ship : 51 %\n",
            "Accuracy of truck : 23 %\n"
          ]
        }
      ],
      "source": [
        "class_correct = list(0. for i in range(10))\n",
        "class_total = list(0. for i in range(10))\n",
        "with torch.no_grad():\n",
        "    for data in testloader:\n",
        "        images, labels = data\n",
        "        outputs = net(images.to(device)) # Move images to the same device\n",
        "        _, predicted = torch.max(outputs, 1)\n",
        "        c = (predicted == labels.to(device)).squeeze() # Move labels to the same device\n",
        "        for i in range(4):\n",
        "            label = labels[i]\n",
        "            class_correct[label] += c[i].item()\n",
        "            class_total[label] += 1\n",
        "\n",
        "\n",
        "for i in range(10):\n",
        "    print('Accuracy of %5s : %2d %%' % (\n",
        "        classes[i], 100 * class_correct[i] / class_total[i]))"
      ]
    },
    {
      "cell_type": "markdown",
      "metadata": {
        "id": "R74y_vl7pMMH"
      },
      "source": [
        "Okay, so what next?\n",
        "\n",
        "How do we run these neural networks on the GPU?\n",
        "\n",
        "Training on GPU\n",
        "----------------\n",
        "Just like how you transfer a Tensor on to the GPU, you transfer the neural\n",
        "net onto the GPU.\n",
        "\n",
        "Let's first define our device as the first visible cuda device if we have\n",
        "CUDA available:\n",
        "\n"
      ]
    },
    {
      "cell_type": "code",
      "execution_count": 19,
      "metadata": {
        "colab": {
          "base_uri": "https://localhost:8080/"
        },
        "id": "ofsdoxWCpMMH",
        "outputId": "703dd0a9-3603-4a07-ec18-44943377cab2"
      },
      "outputs": [
        {
          "output_type": "stream",
          "name": "stdout",
          "text": [
            "cuda:0\n"
          ]
        }
      ],
      "source": [
        "device = torch.device(\"cuda:0\" if torch.cuda.is_available() else \"cpu\")\n",
        "\n",
        "# Assume that we are on a CUDA machine, then this should print a CUDA device:\n",
        "\n",
        "print(device)"
      ]
    },
    {
      "cell_type": "markdown",
      "metadata": {
        "id": "RXrI7341pMMI"
      },
      "source": [
        "The rest of this section assumes that `device` is a CUDA device.\n",
        "\n",
        "Then these methods will recursively go over all modules and convert their\n",
        "parameters and buffers to CUDA tensors:\n",
        "\n",
        ".. code:: python\n",
        "\n",
        "    net.to(device)\n",
        "\n",
        "\n",
        "Remember that you will have to send the inputs and targets at every step\n",
        "to the GPU too:\n",
        "\n",
        ".. code:: python\n",
        "\n",
        "        inputs, labels = inputs.to(device), labels.to(device)\n",
        "\n",
        "Why dont I notice MASSIVE speedup compared to CPU? Because your network\n",
        "is realllly small.\n",
        "\n",
        "**Exercise:** Try increasing the width of your network (argument 2 of\n",
        "the first ``nn.Conv2d``, and argument 1 of the second ``nn.Conv2d`` –\n",
        "they need to be the same number), see what kind of speedup you get.\n",
        "\n",
        "**Goals achieved**:\n",
        "\n",
        "- Understanding PyTorch's Tensor library and neural networks at a high level.\n",
        "- Train a small neural network to classify images\n",
        "\n",
        "Training on multiple GPUs\n",
        "-------------------------\n",
        "If you want to see even more MASSIVE speedup using all of your GPUs,\n",
        "please check out :doc:`data_parallel_tutorial`.\n",
        "\n",
        "Where do I go next?\n",
        "-------------------\n",
        "\n",
        "-  :doc:`Train neural nets to play video games </intermediate/reinforcement_q_learning>`\n",
        "-  `Train a state-of-the-art ResNet network on imagenet`_\n",
        "-  `Train a face generator using Generative Adversarial Networks`_\n",
        "-  `Train a word-level language model using Recurrent LSTM networks`_\n",
        "-  `More examples`_\n",
        "-  `More tutorials`_\n",
        "-  `Discuss PyTorch on the Forums`_\n",
        "-  `Chat with other users on Slack`_\n",
        "\n",
        "\n"
      ]
    }
  ],
  "metadata": {
    "kernelspec": {
      "display_name": "Python 3",
      "name": "python3"
    },
    "language_info": {
      "codemirror_mode": {
        "name": "ipython",
        "version": 3
      },
      "file_extension": ".py",
      "mimetype": "text/x-python",
      "name": "python",
      "nbconvert_exporter": "python",
      "pygments_lexer": "ipython3",
      "version": "3.6.6"
    },
    "colab": {
      "provenance": [],
      "gpuType": "T4"
    },
    "accelerator": "GPU"
  },
  "nbformat": 4,
  "nbformat_minor": 0
}